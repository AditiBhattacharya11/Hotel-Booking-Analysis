{
  "nbformat": 4,
  "nbformat_minor": 0,
  "metadata": {
    "colab": {
      "provenance": [],
      "authorship_tag": "ABX9TyOqoc+v0ZGbzrI0ynweTKh6",
      "include_colab_link": true
    },
    "kernelspec": {
      "name": "python3",
      "display_name": "Python 3"
    },
    "language_info": {
      "name": "python"
    }
  },
  "cells": [
    {
      "cell_type": "markdown",
      "metadata": {
        "id": "view-in-github",
        "colab_type": "text"
      },
      "source": [
        "<a href=\"https://colab.research.google.com/github/AditiBhattacharya11/Hotel-Booking-Analysis/blob/main/Hotel_Booking_Analysis_EDA.ipynb\" target=\"_parent\"><img src=\"https://colab.research.google.com/assets/colab-badge.svg\" alt=\"Open In Colab\"/></a>"
      ]
    },
    {
      "cell_type": "code",
      "execution_count": null,
      "metadata": {
        "id": "oC64BKbc6vgx"
      },
      "outputs": [],
      "source": [
        "#importing the libraries for analysing the dataset\n",
        "import pandas as pd\n",
        "import numpy as np\n",
        "import matplotlib.pyplot as plt\n",
        "import seaborn as sns\n",
        "from datetime import datetime\n",
        "from datetime import date"
      ]
    },
    {
      "cell_type": "code",
      "source": [
        "# mounting drive to the collaboratory\n",
        "from google.colab import drive\n",
        "drive.mount('/content/drive')"
      ],
      "metadata": {
        "colab": {
          "base_uri": "https://localhost:8080/"
        },
        "id": "4r5UfCeh7g5q",
        "outputId": "58bc3ead-3221-4969-eada-070bbcc8af45"
      },
      "execution_count": null,
      "outputs": [
        {
          "output_type": "stream",
          "name": "stdout",
          "text": [
            "Drive already mounted at /content/drive; to attempt to forcibly remount, call drive.mount(\"/content/drive\", force_remount=True).\n"
          ]
        }
      ]
    },
    {
      "cell_type": "code",
      "source": [
        "#accessing/reading the hotel booking dataset\n",
        "hoteldf1=pd.read_csv('/Hotel Bookings.csv')"
      ],
      "metadata": {
        "id": "dnyKfhTh7iYY"
      },
      "execution_count": null,
      "outputs": []
    },
    {
      "cell_type": "code",
      "source": [
        "#printing the dataframe\n",
        "hoteldf1"
      ],
      "metadata": {
        "id": "GtKRW9fo80tJ"
      },
      "execution_count": null,
      "outputs": []
    },
    {
      "cell_type": "code",
      "source": [],
      "metadata": {
        "id": "Dw3M9o9m9Mlh"
      },
      "execution_count": null,
      "outputs": []
    }
  ]
}